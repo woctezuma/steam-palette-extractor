{
  "nbformat": 4,
  "nbformat_minor": 0,
  "metadata": {
    "colab": {
      "private_outputs": true,
      "provenance": [],
      "collapsed_sections": [
        "xenhFtn4s9Ma",
        "_6E1JXzSrPF9",
        "mDyShJW2vXU1",
        "8q1LUuKAECGM",
        "vHYlN8ihF_EE",
        "gYf5B--oa7vF",
        "1KNXKMWezo3q",
        "IbhVTqpUzj46",
        "xW82Z1GhoLtA",
        "ZfjlMyEZYAc-",
        "f4qSdoEsYCyj"
      ]
    },
    "kernelspec": {
      "name": "python3",
      "display_name": "Python 3"
    },
    "language_info": {
      "name": "python"
    },
    "gpuClass": "standard"
  },
  "cells": [
    {
      "cell_type": "markdown",
      "source": [
        "# Steam Palette Extractor\n",
        "Reference: https://github.com/woctezuma/steam-palette-extractor"
      ],
      "metadata": {
        "id": "eL8Fjiw2gJxP"
      }
    },
    {
      "cell_type": "markdown",
      "source": [
        "## Install Python packages"
      ],
      "metadata": {
        "id": "xenhFtn4s9Ma"
      }
    },
    {
      "cell_type": "code",
      "source": [
        "%cd /content\n",
        "!git clone https://github.com/woctezuma/steam-palette-extractor.git\n",
        "%cd /content/steam-palette-extractor\n",
        "%pip install -qq -r requirements.txt"
      ],
      "metadata": {
        "id": "p759qndFWLb9"
      },
      "execution_count": null,
      "outputs": []
    },
    {
      "cell_type": "markdown",
      "source": [
        "## Download images from Steam (only the first time)"
      ],
      "metadata": {
        "id": "_6E1JXzSrPF9"
      }
    },
    {
      "cell_type": "code",
      "source": [
        "from src.constants import APPID_FNAME\n",
        "\n",
        "GITHUB_URL = \"https://github.com/woctezuma/steam-palette-extractor/releases\"\n",
        "\n",
        "!curl -OL {GITHUB_URL}/download/games/{APPID_FNAME}"
      ],
      "metadata": {
        "id": "nlgqlVp6-BTS"
      },
      "execution_count": null,
      "outputs": []
    },
    {
      "cell_type": "code",
      "source": [
        "from src.constants import IMG_FOLDER\n",
        "from src.download_utils import write_to_text_file\n",
        "from src.utils import get_app_ids\n",
        "\n",
        "TEMPORARY_FILE = \"myimglist.txt\"\n",
        "\n",
        "write_to_text_file(get_app_ids(), fname=TEMPORARY_FILE)\n",
        "\n",
        "# The download process took ~ 30 minutes.\n",
        "# Out of 95,800 images, 92,249 were successfully downloaded.\n",
        "# The output folder uses ~ 8 GB of disk space.\n",
        "!echo img2dataset --url_list={TEMPORARY_FILE} --output_folder={IMG_FOLDER} --resize_mode=no"
      ],
      "metadata": {
        "id": "gYeeHgGteJcJ"
      },
      "execution_count": null,
      "outputs": []
    },
    {
      "cell_type": "markdown",
      "source": [
        "## Check the content of the image folder"
      ],
      "metadata": {
        "id": "mDyShJW2vXU1"
      }
    },
    {
      "cell_type": "code",
      "source": [
        "from src.filter_utils import prepare_filtered_files\n",
        "from src.utils import get_app_ids, get_test_fnames\n",
        "\n",
        "test_fnames = get_test_fnames(f'{IMG_FOLDER}/*')\n",
        "print(f'#images = {len(test_fnames)}')\n",
        "\n",
        "prepare_filtered_files(get_app_ids, test_fnames)"
      ],
      "metadata": {
        "id": "D3GIKI78Cdur"
      },
      "execution_count": null,
      "outputs": []
    },
    {
      "cell_type": "markdown",
      "source": [
        "## Compute the palette for each Steam game"
      ],
      "metadata": {
        "id": "8q1LUuKAECGM"
      }
    },
    {
      "cell_type": "code",
      "source": [
        "from src.extract_utils import extract_from_scratch\n",
        "\n",
        "pre_computed_palettes = extract_from_scratch(test_fnames)"
      ],
      "metadata": {
        "id": "3g33pOMWTepd"
      },
      "execution_count": null,
      "outputs": []
    },
    {
      "cell_type": "markdown",
      "source": [
        "## Load pre-computed data"
      ],
      "metadata": {
        "id": "vHYlN8ihF_EE"
      }
    },
    {
      "cell_type": "code",
      "source": [
        "from src.constants import FILTERED_APP_IDS_FNAME, PALETTE_FNAME\n",
        "\n",
        "!curl -OL {GITHUB_URL}/download/colors/{FILTERED_APP_IDS_FNAME}\n",
        "!curl -OL {GITHUB_URL}/download/colors/{PALETTE_FNAME}"
      ],
      "metadata": {
        "id": "GwiLs1gEGPfV"
      },
      "execution_count": null,
      "outputs": []
    },
    {
      "cell_type": "code",
      "source": [
        "from src.utils import get_filtered_app_ids, get_pre_computed_palettes\n",
        "\n",
        "filtered_app_ids = get_filtered_app_ids()\n",
        "pre_computed_palettes = get_pre_computed_palettes()"
      ],
      "metadata": {
        "id": "PggejQwdGBqS"
      },
      "execution_count": null,
      "outputs": []
    },
    {
      "cell_type": "markdown",
      "source": [
        "## Load data intended to evaluate the results"
      ],
      "metadata": {
        "id": "gYf5B--oa7vF"
      }
    },
    {
      "cell_type": "code",
      "source": [
        "from src.constants import APPID_FNAME, POPULAR_APPIDS_FNAME, SOLUTIONS_FNAME\n",
        "\n",
        "GITHUB_URL_FOR_POPULARITY = \"https://github.com/woctezuma/steam-popular-appids/releases\"\n",
        "\n",
        "!curl -OL {GITHUB_URL}/download/solutions/{SOLUTIONS_FNAME}\n",
        "!curl -o {POPULAR_APPIDS_FNAME} -L {GITHUB_URL_FOR_POPULARITY}/download/data/{APPID_FNAME}"
      ],
      "metadata": {
        "id": "71AmY8DzbHMl"
      },
      "execution_count": null,
      "outputs": []
    },
    {
      "cell_type": "code",
      "source": [
        "from src.utils import get_egs_solutions, get_popular_appids\n",
        "\n",
        "egs_solutions = get_egs_solutions()\n",
        "popular_appids = get_popular_appids()"
      ],
      "metadata": {
        "id": "gN_f8Ezmcqu1"
      },
      "execution_count": null,
      "outputs": []
    },
    {
      "cell_type": "markdown",
      "source": [
        "## Run the workflow"
      ],
      "metadata": {
        "id": "7vHySf4uFOjR"
      }
    },
    {
      "cell_type": "code",
      "source": [
        "from src.constants import get_default_params\n",
        "\n",
        "params = get_default_params()\n",
        "print(params)"
      ],
      "metadata": {
        "id": "9Sv75N65pmHv"
      },
      "execution_count": null,
      "outputs": []
    },
    {
      "cell_type": "code",
      "source": [
        "# Exponent = 0.25 ---> rank 59 for Ghostrunner\n",
        "# Exponent = 0.50 ---> rank 41 for Ghostrunner :D\n",
        "# Exponent = 0.75 ---> rank 47 for Ghostrunner\n",
        "# Exponent = 1.00 ---> rank 81 for Ghostrunner\n",
        "# Exponent = 1.50 ---> rank 166 for Ghostrunner\n",
        "\n",
        "# Exponent = 0.25 ---> rank ?? for Escape Academy\n",
        "# Exponent = 0.50 ---> rank 105 for Escape Academy\n",
        "# Exponent = 0.75 ---> rank 62 for Escape Academy\n",
        "# Exponent = 1.00 ---> rank 57 for Escape Academy\n",
        "# Exponent = 1.50 ---> rank ?? for Escape Academy"
      ],
      "metadata": {
        "id": "xLl7G621cQwS"
      },
      "execution_count": null,
      "outputs": []
    },
    {
      "cell_type": "markdown",
      "source": [
        "### Define the target"
      ],
      "metadata": {
        "id": "1KNXKMWezo3q"
      }
    },
    {
      "cell_type": "code",
      "source": [
        "from src.image_utils import prepare_image\n",
        "from src.url_utils import from_gift_to_egs_url\n",
        "\n",
        "gift_index = 12\n",
        "gift = egs_solutions[\"gift\"][gift_index]\n",
        "\n",
        "path_or_url = from_gift_to_egs_url(egs_solutions, gift)\n",
        "reference_colors = prepare_image(path_or_url, params)"
      ],
      "metadata": {
        "id": "GXxTEoEAkbe6"
      },
      "execution_count": null,
      "outputs": []
    },
    {
      "cell_type": "markdown",
      "source": [
        "### Check the ground truth"
      ],
      "metadata": {
        "id": "IbhVTqpUzj46"
      }
    },
    {
      "cell_type": "code",
      "source": [
        "from src.distance_utils import compute_distance_between_palettes\n",
        "from src.download_utils import get_image_url\n",
        "from src.image_utils import prepare_image\n",
        "\n",
        "# There can be several appIDs for different editions of a game, e.g. GOTY.\n",
        "for ground_truth_app_id in gift[\"appids\"]:\n",
        "  path_or_url = get_image_url(ground_truth_app_id)\n",
        "  ground_truth_colors = prepare_image(path_or_url, params)\n",
        "\n",
        "  distance = compute_distance_between_palettes(\n",
        "      reference_colors,\n",
        "      ground_truth_colors,\n",
        "      params,\n",
        "      )\n",
        "\n",
        "  print(f'\\tappID: {ground_truth_app_id} ; distance: {distance:.2f}')"
      ],
      "metadata": {
        "id": "_Hh28edesLwZ"
      },
      "execution_count": null,
      "outputs": []
    },
    {
      "cell_type": "markdown",
      "source": [
        "### Check all"
      ],
      "metadata": {
        "id": "HOaZ2ZUlzh4b"
      }
    },
    {
      "cell_type": "markdown",
      "source": [
        "#### Constrain the results to popular apps"
      ],
      "metadata": {
        "id": "xW82Z1GhoLtA"
      }
    },
    {
      "cell_type": "code",
      "source": [
        "MAX_NUM_POPULAR_APP_IDS = 2000\n",
        "\n",
        "test_app_ids = set(filtered_app_ids).intersection(\n",
        "    popular_appids[:MAX_NUM_POPULAR_APP_IDS]\n",
        "    )\n",
        "\n",
        "# We constrain the number of appIDs (originally ~ 100k) to focus on games which\n",
        "# may be able to attract the attention of Epic Games in order to strike a deal\n",
        "# for a giveaway.\n",
        "# This step is not mandatory, but it should help to make the whole process\n",
        "# faster, and make the game of interest appear at lower ranks in the results.\n",
        "# This means that it is easier to manually parse the results, typically by\n",
        "# looking at the top 20 results instead of the top 100 results.\n",
        "\n",
        "# - With the first 2,000 popular appIDs, 12 apps can be recalled out of 22 apps.\n",
        "# - With the first 7,000 popular appIDs, 16 apps.\n",
        "# - With the first 13,000 popular appIDs, 19 apps.\n",
        "# - With the first 18,500 popular appIDs, 21 apps.\n",
        "# NB: the missing app is the DLC for Destiny 2, which cannot be recovered anyway\n",
        "# as it is not a game. However, the base game appears in the 21 recalled apps."
      ],
      "metadata": {
        "id": "vQqf0aNHdrFP"
      },
      "execution_count": null,
      "outputs": []
    },
    {
      "cell_type": "markdown",
      "source": [
        "#### Run"
      ],
      "metadata": {
        "id": "SP9RYCaHa292"
      }
    },
    {
      "cell_type": "code",
      "source": [
        "from src.distance_utils import compute_distances_with_all_the_palettes, get_ground_truth_ranks, get_most_similar_app_ids\n",
        "\n",
        "gift_index = 12\n",
        "verbose = True\n",
        "\n",
        "gift = egs_solutions[\"gift\"][gift_index]\n",
        "path_or_url = from_gift_to_egs_url(egs_solutions, gift)\n",
        "\n",
        "reference_colors = prepare_image(path_or_url, params, verbose=verbose)\n",
        "\n",
        "distance_dict = compute_distances_with_all_the_palettes(\n",
        "    reference_colors,\n",
        "    pre_computed_palettes,\n",
        "    test_app_ids,\n",
        "    params,\n",
        "    verbose=verbose,\n",
        "    )\n",
        "\n",
        "most_similar_app_ids = get_most_similar_app_ids(distance_dict)\n",
        "\n",
        "ground_truth_ranks = get_ground_truth_ranks(\n",
        "    gift[\"appids\"],\n",
        "    most_similar_app_ids,\n",
        "    )"
      ],
      "metadata": {
        "id": "d7VfvPwfn9h0"
      },
      "execution_count": null,
      "outputs": []
    },
    {
      "cell_type": "markdown",
      "source": [
        "#### Show the covers with the most similar color palettes"
      ],
      "metadata": {
        "id": "ZfjlMyEZYAc-"
      }
    },
    {
      "cell_type": "code",
      "source": [
        "from src.display_utils import display_results\n",
        "\n",
        "max_num_displayed_images = 3\n",
        "\n",
        "display_results(\n",
        "    most_similar_app_ids,\n",
        "    distance_dict,\n",
        "    max_num_displayed_images,\n",
        "    )"
      ],
      "metadata": {
        "id": "dFh-UGk0uTaG"
      },
      "execution_count": null,
      "outputs": []
    },
    {
      "cell_type": "markdown",
      "source": [
        "### Optimize the exponent"
      ],
      "metadata": {
        "id": "f4qSdoEsYCyj"
      }
    },
    {
      "cell_type": "code",
      "source": [
        "import torch\n",
        "\n",
        "from src.optimize_utils import process_every_gift\n",
        "\n",
        "gift_ranks = process_every_gift(\n",
        "    egs_solutions,\n",
        "    pre_computed_palettes,\n",
        "    test_app_ids,\n",
        "    params,\n",
        "    verbose=False,\n",
        "    )\n",
        "\n",
        "l = torch.Tensor([r for r in gift_ranks if r is not None])\n",
        "print(f\"#gifts = {l.size()[0]} ---> min = {l.min():.0f} ; mean = {l.mean():.2f} ; median = {l.median():.0f} ; max = {l.max():.0f}\")"
      ],
      "metadata": {
        "id": "HkNc2C4qYHVL"
      },
      "execution_count": null,
      "outputs": []
    }
  ]
}