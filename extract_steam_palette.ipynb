{
  "nbformat": 4,
  "nbformat_minor": 0,
  "metadata": {
    "colab": {
      "private_outputs": true,
      "provenance": [],
      "collapsed_sections": [
        "xenhFtn4s9Ma",
        "mDyShJW2vXU1",
        "j1GsKjS9LKlb",
        "8q1LUuKAECGM",
        "vHYlN8ihF_EE",
        "gYf5B--oa7vF",
        "KcXNAaC6a0mg",
        "ZfjlMyEZYAc-",
        "OPb2EiBGblu4"
      ]
    },
    "kernelspec": {
      "name": "python3",
      "display_name": "Python 3"
    },
    "language_info": {
      "name": "python"
    },
    "gpuClass": "standard"
  },
  "cells": [
    {
      "cell_type": "markdown",
      "source": [
        "# Steam Palette Extractor\n",
        "Reference: https://github.com/woctezuma/steam-palette-extractor"
      ],
      "metadata": {
        "id": "eL8Fjiw2gJxP"
      }
    },
    {
      "cell_type": "markdown",
      "source": [
        "## Install Python packages"
      ],
      "metadata": {
        "id": "xenhFtn4s9Ma"
      }
    },
    {
      "cell_type": "code",
      "execution_count": null,
      "metadata": {
        "id": "aia2H4FGzxtx"
      },
      "outputs": [],
      "source": [
        "%pip install -qq img2dataset mediapy tqdm"
      ]
    },
    {
      "cell_type": "markdown",
      "source": [
        "## Download images from Steam (only the first time)"
      ],
      "metadata": {
        "id": "_6E1JXzSrPF9"
      }
    },
    {
      "cell_type": "code",
      "source": [
        "IMG_NAME = 'capsule_616x353.jpg'\n",
        "\n",
        "def get_image_url(app_id, img_name=IMG_NAME):\n",
        "  return f'https://cdn.cloudflare.steamstatic.com/steam/apps/{app_id}/{img_name}'\n",
        "\n",
        "def write_to_text_file(app_ids, fname, img_name=IMG_NAME):\n",
        "  with open(fname, 'w') as f:\n",
        "    for app_id in app_ids:\n",
        "      url = get_image_url(app_id, img_name)\n",
        "      f.write(f'{url}\\n')"
      ],
      "metadata": {
        "id": "nGxj7U4IkHT9"
      },
      "execution_count": null,
      "outputs": []
    },
    {
      "cell_type": "code",
      "source": [
        "import json\n",
        "\n",
        "APPID_FNAME = \"appids.json\"\n",
        "\n",
        "def get_app_ids():\n",
        "  with open(APPID_FNAME) as f:\n",
        "    return [str(app_id) for app_id in json.load(f)]"
      ],
      "metadata": {
        "id": "u3oco092qfj8"
      },
      "execution_count": null,
      "outputs": []
    },
    {
      "cell_type": "code",
      "source": [
        "!curl -OL https://github.com/woctezuma/steam-palette-extractor/releases/download/games/{APPID_FNAME}"
      ],
      "metadata": {
        "id": "nlgqlVp6-BTS"
      },
      "execution_count": null,
      "outputs": []
    },
    {
      "cell_type": "code",
      "source": [
        "app_ids = get_app_ids()\n",
        "write_to_text_file(app_ids, fname='myimglist.txt')"
      ],
      "metadata": {
        "id": "gYeeHgGteJcJ"
      },
      "execution_count": null,
      "outputs": []
    },
    {
      "cell_type": "code",
      "source": [
        "# The download process took ~ 30 minutes.\n",
        "# Out of 95,800 images, 92,249 were successfully downloaded.\n",
        "# The output folder uses ~ 8 GB of disk space.\n",
        "!echo img2dataset --url_list=myimglist.txt --output_folder=steam_images --resize_mode=no\n",
        "!echo zip -r steam_images.zip steam_images"
      ],
      "metadata": {
        "id": "5Vm2KpwvrUPU"
      },
      "execution_count": null,
      "outputs": []
    },
    {
      "cell_type": "markdown",
      "source": [
        "## Check the content of the image folder"
      ],
      "metadata": {
        "id": "mDyShJW2vXU1"
      }
    },
    {
      "cell_type": "code",
      "source": [
        "FILTERED_INDICES_FNAME = 'filtered_indices.json'\n",
        "FILTERED_APP_IDS_FNAME = 'filtered_appids.json'"
      ],
      "metadata": {
        "id": "UaSI3yCFbbV1"
      },
      "execution_count": null,
      "outputs": []
    },
    {
      "cell_type": "code",
      "source": [
        "import glob\n",
        "\n",
        "IMG_FOLDER = \"steam_images\"\n",
        "\n",
        "def get_test_fnames(image_folder, file_ext = '.jpg'):\n",
        "  return sorted(glob.glob(image_folder +'/*' + file_ext))\n",
        "\n",
        "test_fnames = get_test_fnames(f'{IMG_FOLDER}/*')\n",
        "print(f'#images = {len(test_fnames)}')"
      ],
      "metadata": {
        "id": "D3GIKI78Cdur"
      },
      "execution_count": null,
      "outputs": []
    },
    {
      "cell_type": "code",
      "source": [
        "from pathlib import Path\n",
        "\n",
        "app_ids = get_app_ids()\n",
        "\n",
        "filtered_indices = []\n",
        "filtered_app_ids = []\n",
        "\n",
        "for fname in test_fnames:\n",
        "  index = int(Path(fname).stem)\n",
        "\n",
        "  filtered_indices.append(index)\n",
        "  filtered_app_ids.append(app_ids[index])\n",
        "\n",
        "with open(FILTERED_INDICES_FNAME, 'w') as f:\n",
        "  json.dump(filtered_indices, f)\n",
        "\n",
        "with open(FILTERED_APP_IDS_FNAME, 'w') as f:\n",
        "  json.dump(filtered_app_ids, f)"
      ],
      "metadata": {
        "id": "MkosUpDhVRmw"
      },
      "execution_count": null,
      "outputs": []
    },
    {
      "cell_type": "markdown",
      "source": [
        "## Utils"
      ],
      "metadata": {
        "id": "j1GsKjS9LKlb"
      }
    },
    {
      "cell_type": "code",
      "source": [
        "# Reference: https://stackoverflow.com/questions/3241929/python-find-dominant-most-common-color-in-an-image/61730849#61730849\n",
        "\n",
        "def get_dominant_colors(pil_img, palette_size=16, num_colors=10):\n",
        "    # Resize image to speed up processing\n",
        "    img = pil_img.copy()\n",
        "    img.thumbnail((100, 100))\n",
        "\n",
        "    # Reduce colors (uses k-means internally)\n",
        "    paletted = img.convert('P', palette=Image.ADAPTIVE, colors=palette_size)\n",
        "\n",
        "    # Find the color that occurs most often\n",
        "    palette = paletted.getpalette()\n",
        "    color_counts = sorted(paletted.getcolors(), reverse=True)\n",
        "\n",
        "    dominant_colors = []\n",
        "    for i in range(num_colors):\n",
        "      try:\n",
        "        palette_index = color_counts[i][1]\n",
        "        colors = palette[palette_index*3:palette_index*3+3]\n",
        "      except IndexError:\n",
        "        colors = [0, 0, 0]\n",
        "\n",
        "      dominant_colors.append(colors)\n",
        "\n",
        "    return dominant_colors"
      ],
      "metadata": {
        "id": "6wYNWYnxoWUM"
      },
      "execution_count": null,
      "outputs": []
    },
    {
      "cell_type": "code",
      "source": [
        "import mediapy as media\n",
        "\n",
        "from PIL import Image\n",
        "\n",
        "def extract_colors(path_or_url, num_colors=10):\n",
        "  img = media.read_image(path_or_url)\n",
        "  pil_img = Image.fromarray(img)\n",
        "  return get_dominant_colors(pil_img, num_colors=num_colors)"
      ],
      "metadata": {
        "id": "eQGmokz9u3zX"
      },
      "execution_count": null,
      "outputs": []
    },
    {
      "cell_type": "code",
      "source": [
        "from PIL import ImageColor, ImageDraw\n",
        "\n",
        "# Reference: https://stackoverflow.com/questions/54165439/what-are-the-exact-color-names-available-in-pils-imagedraw\n",
        "\n",
        "def show_colors(c):\n",
        "  n = len( c )\n",
        "\n",
        "  cols        = NUM_COLORS\n",
        "  rows        = ((n-1) // cols) +1\n",
        "  cellHeight  = 30\n",
        "  cellWidth   = 170\n",
        "  imgHeight   = cellHeight * rows\n",
        "  imgWidth    = cellWidth * cols\n",
        "\n",
        "  i = Image.new( \"RGB\", (imgWidth,imgHeight), (0,0,0) )\n",
        "  a = ImageDraw.Draw( i )\n",
        "\n",
        "  for idx, rgb in enumerate( c ):\n",
        "      y0 = cellHeight * (idx // cols)\n",
        "      y1 = y0 + cellHeight\n",
        "      x0 = cellWidth * (idx % cols)\n",
        "      x1 = x0 + (cellWidth / 1)\n",
        "\n",
        "      a.rectangle( [ x0, y0, x1, y1 ], fill=tuple(rgb), outline='black' )\n",
        "\n",
        "  media.show_image(i)"
      ],
      "metadata": {
        "id": "A4wbefjykP5U"
      },
      "execution_count": null,
      "outputs": []
    },
    {
      "cell_type": "code",
      "source": [
        "from colorsys import rgb_to_hsv\n",
        "\n",
        "def to_hsv(r, g, b):\n",
        "  # Reference: https://stackoverflow.com/a/37656972/376454\n",
        "\n",
        "  h, s, v = rgb_to_hsv(r / 255, g / 255, b / 255)\n",
        "  return int(h * 255), int(s * 255), int(v * 255)"
      ],
      "metadata": {
        "id": "3eq9E5WaERxA"
      },
      "execution_count": null,
      "outputs": []
    },
    {
      "cell_type": "code",
      "source": [
        "import torch\n",
        "\n",
        "def to_linear_hsv(dominant_colors, change_coordinates=True):\n",
        "  v = torch.tensor([to_hsv(*rgb) for rgb in dominant_colors])\n",
        "\n",
        "  # Caveat: convert the HSV values before computing the distance!\n",
        "  # https://stackoverflow.com/a/39113477/376454\n",
        "\n",
        "  if change_coordinates:\n",
        "    v = v.float() / 255\n",
        "\n",
        "    theta = 2 * torch.pi * v[:, 0]\n",
        "    radius = v[:, 1]\n",
        "\n",
        "    x = radius * torch.cos(theta)\n",
        "    y = radius * torch.sin(theta)\n",
        "\n",
        "    v[:, 0] = x\n",
        "    v[:, 1] = y\n",
        "\n",
        "  return v"
      ],
      "metadata": {
        "id": "Ds4CmyBBHKCo"
      },
      "execution_count": null,
      "outputs": []
    },
    {
      "cell_type": "markdown",
      "source": [
        "## Compute the palette for each Steam game"
      ],
      "metadata": {
        "id": "8q1LUuKAECGM"
      }
    },
    {
      "cell_type": "code",
      "source": [
        "NUM_COLORS = 8\n",
        "PALETTE_FNAME = f\"steam_palette_{NUM_COLORS}.pth\""
      ],
      "metadata": {
        "id": "zvEobqfAF45C"
      },
      "execution_count": null,
      "outputs": []
    },
    {
      "cell_type": "code",
      "source": [
        "from tqdm import tqdm\n",
        "\n",
        "extract_from_scratch = False\n",
        "\n",
        "if extract_from_scratch:\n",
        "  # This extraction process takes ~ 20 minutes.\n",
        "\n",
        "  pre_computed_palettes = torch.zeros(len(test_fnames), NUM_COLORS, len(\"RGB\"), dtype=int)\n",
        "\n",
        "  for i, fname in tqdm(enumerate(test_fnames)):\n",
        "    if torch.all(pre_computed_palettes[i]==0):\n",
        "      dominant_colors = extract_colors(fname, num_colors=NUM_COLORS)\n",
        "      pre_computed_palettes[i] = torch.tensor(dominant_colors)\n",
        "\n",
        "  torch.save(pre_computed_palettes, PALETTE_FNAME)"
      ],
      "metadata": {
        "id": "3g33pOMWTepd"
      },
      "execution_count": null,
      "outputs": []
    },
    {
      "cell_type": "markdown",
      "source": [
        "## Load pre-computed data"
      ],
      "metadata": {
        "id": "vHYlN8ihF_EE"
      }
    },
    {
      "cell_type": "code",
      "source": [
        "!curl -OL https://github.com/woctezuma/steam-palette-extractor/releases/download/colors/{FILTERED_APP_IDS_FNAME}\n",
        "!curl -OL https://github.com/woctezuma/steam-palette-extractor/releases/download/colors/{PALETTE_FNAME}"
      ],
      "metadata": {
        "id": "GwiLs1gEGPfV"
      },
      "execution_count": null,
      "outputs": []
    },
    {
      "cell_type": "code",
      "source": [
        "import json\n",
        "\n",
        "with open(FILTERED_APP_IDS_FNAME) as f:\n",
        "  filtered_app_ids = json.load(f)"
      ],
      "metadata": {
        "id": "PggejQwdGBqS"
      },
      "execution_count": null,
      "outputs": []
    },
    {
      "cell_type": "code",
      "source": [
        "import torch\n",
        "\n",
        "pre_computed_palettes = torch.load(PALETTE_FNAME)"
      ],
      "metadata": {
        "id": "Rlp2t_l9HAQt"
      },
      "execution_count": null,
      "outputs": []
    },
    {
      "cell_type": "markdown",
      "source": [
        "## Load data intended to evaluate the results"
      ],
      "metadata": {
        "id": "gYf5B--oa7vF"
      }
    },
    {
      "cell_type": "code",
      "source": [
        "SOLUTIONS_FNAME = \"egs_solutions.json\"\n",
        "POPULAR_APPIDS_FNAME = \"popular_appids.json\""
      ],
      "metadata": {
        "id": "pUkatOxrbdp9"
      },
      "execution_count": null,
      "outputs": []
    },
    {
      "cell_type": "code",
      "source": [
        "!curl -OL https://github.com/woctezuma/steam-palette-extractor/releases/download/solutions/{SOLUTIONS_FNAME}\n",
        "!curl -o {POPULAR_APPIDS_FNAME} -L https://github.com/woctezuma/steam-popular-appids/releases/download/data/{APPID_FNAME}"
      ],
      "metadata": {
        "id": "71AmY8DzbHMl"
      },
      "execution_count": null,
      "outputs": []
    },
    {
      "cell_type": "code",
      "source": [
        "import json\n",
        "\n",
        "with open(SOLUTIONS_FNAME) as f:\n",
        "  egs_solutions = json.load(f)\n",
        "\n",
        "with open(POPULAR_APPIDS_FNAME) as f:\n",
        "  popular_appids = [str(app_id) for app_id in json.load(f)]"
      ],
      "metadata": {
        "id": "gN_f8Ezmcqu1"
      },
      "execution_count": null,
      "outputs": []
    },
    {
      "cell_type": "code",
      "source": [
        "def to_steam_url(app_id):\n",
        "  elements = egs_solutions[\"image\"][\"steam\"]\n",
        "  return f\"{elements['url']}{app_id}{elements['suffix']}\"\n",
        "\n",
        "def to_egs_url(index, md5):\n",
        "  elements = egs_solutions[\"image\"][\"egs\"]\n",
        "  keyword = elements[\"keyword\"][0] if index == 1 else elements[\"keyword\"][1]\n",
        "  return f\"{elements['url']}{index}{keyword}{elements['resolution']}{md5}\""
      ],
      "metadata": {
        "id": "GpHgYZPvdo0K"
      },
      "execution_count": null,
      "outputs": []
    },
    {
      "cell_type": "code",
      "source": [
        "def from_gift_to_steam_url(gift, app_id_index=0):\n",
        "  app_id = gift[\"appids\"][app_id_index]\n",
        "  return to_steam_url(app_id)\n",
        "\n",
        "def from_gift_to_egs_url(gift):\n",
        "  index = gift[\"index\"]\n",
        "  md5 = gift[\"md5\"]\n",
        "  return to_egs_url(index, md5)\n",
        "\n",
        "gift_index = 13\n",
        "gift = egs_solutions[\"gift\"][gift_index]\n",
        "print(from_gift_to_steam_url(gift))\n",
        "print(from_gift_to_egs_url(gift))"
      ],
      "metadata": {
        "id": "7y9AzN6XmRWN"
      },
      "execution_count": null,
      "outputs": []
    },
    {
      "cell_type": "markdown",
      "source": [
        "## Run the workflow"
      ],
      "metadata": {
        "id": "7vHySf4uFOjR"
      }
    },
    {
      "cell_type": "code",
      "source": [
        "def to_score(minimal_distances, indices, exponent = 1.00, factor = 1.00):\n",
        "  rank_weights = (1+factor*indices)**exponent\n",
        "  return (minimal_distances * rank_weights).sum()\n",
        "\n",
        "def compute_distance_between_palettes(v, w, exponent = 1.00, factor = 1.00):\n",
        "  pairwise_distances = torch.cdist(\n",
        "      v.float(),\n",
        "      w.float(),\n",
        "      )\n",
        "\n",
        "  # The first score\n",
        "  minimal_distances, indices = pairwise_distances.min(\n",
        "      dim=0, # caveat\n",
        "      )\n",
        "  score_for_w = to_score(minimal_distances, indices, exponent, factor)\n",
        "\n",
        "  # The second score, in order to make the distance symmetrical\n",
        "  minimal_distances, indices = pairwise_distances.min(\n",
        "      dim=1, # caveat\n",
        "      )\n",
        "  score_for_v = to_score(minimal_distances, indices, exponent, factor)\n",
        "\n",
        "  return score_for_w + score_for_v"
      ],
      "metadata": {
        "id": "ihXRyBxSH55_"
      },
      "execution_count": null,
      "outputs": []
    },
    {
      "cell_type": "code",
      "source": [
        "# The algorithm if much slower when using HSV.\n",
        "use_HSV = True\n",
        "change_coordinates = True"
      ],
      "metadata": {
        "id": "9Sv75N65pmHv"
      },
      "execution_count": null,
      "outputs": []
    },
    {
      "cell_type": "code",
      "source": [
        "factor = 1.0\n",
        "exponent = 1.0 # TODO\n",
        "# Exponent = 0.25 ---> rank 59 for Ghostrunner\n",
        "# Exponent = 0.50 ---> rank 41 for Ghostrunner :D\n",
        "# Exponent = 0.75 ---> rank 47 for Ghostrunner\n",
        "# Exponent = 1.00 ---> rank 81 for Ghostrunner\n",
        "# Exponent = 1.50 ---> rank 166 for Ghostrunner\n",
        "\n",
        "# Exponent = 0.25 ---> rank ?? for Escape Academy\n",
        "# Exponent = 0.50 ---> rank 105 for Escape Academy\n",
        "# Exponent = 0.75 ---> rank 62 for Escape Academy\n",
        "# Exponent = 1.00 ---> rank 57 for Escape Academy\n",
        "# Exponent = 1.50 ---> rank ?? for Escape Academy"
      ],
      "metadata": {
        "id": "xLl7G621cQwS"
      },
      "execution_count": null,
      "outputs": []
    },
    {
      "cell_type": "markdown",
      "source": [
        "### Define the target"
      ],
      "metadata": {
        "id": "1KNXKMWezo3q"
      }
    },
    {
      "cell_type": "code",
      "source": [
        "def prepare_image(path_or_url, use_HSV, change_coordinates, verbose=True):\n",
        "  dominant_colors = extract_colors(path_or_url, num_colors=NUM_COLORS)\n",
        "  if use_HSV:\n",
        "    reference_colors = to_linear_hsv(dominant_colors, change_coordinates)\n",
        "  else:\n",
        "    reference_colors = torch.tensor(dominant_colors)\n",
        "\n",
        "  if verbose:\n",
        "    media.show_image(media.read_image(path_or_url), width=616)\n",
        "    show_colors(dominant_colors)\n",
        "\n",
        "  return reference_colors"
      ],
      "metadata": {
        "id": "yRwA0MmOZX2D"
      },
      "execution_count": null,
      "outputs": []
    },
    {
      "cell_type": "code",
      "source": [
        "gift_index = 14\n",
        "gift = egs_solutions[\"gift\"][gift_index]\n",
        "path_or_url = from_gift_to_egs_url(gift)\n",
        "\n",
        "reference_colors = prepare_image(path_or_url, use_HSV, change_coordinates)"
      ],
      "metadata": {
        "id": "GXxTEoEAkbe6"
      },
      "execution_count": null,
      "outputs": []
    },
    {
      "cell_type": "markdown",
      "source": [
        "### Check the ground truth"
      ],
      "metadata": {
        "id": "IbhVTqpUzj46"
      }
    },
    {
      "cell_type": "code",
      "source": [
        "# The first appID in the list is used here.\n",
        "# If there were another edition (e.g. GOTY), you may want to try another appID.\n",
        "app_id_index = 0\n",
        "ground_truth_app_id = gift[\"appids\"][app_id_index]\n",
        "path_or_url = get_image_url(ground_truth_app_id)\n",
        "\n",
        "ground_truth_colors = prepare_image(path_or_url, use_HSV, change_coordinates)\n",
        "\n",
        "distance = compute_distance_between_palettes(\n",
        "    reference_colors,\n",
        "    ground_truth_colors,\n",
        "    exponent,\n",
        "    factor,\n",
        "    )\n",
        "\n",
        "print(f'\\tappID: {ground_truth_app_id} ; distance: {distance:.2f}')"
      ],
      "metadata": {
        "id": "_Hh28edesLwZ"
      },
      "execution_count": null,
      "outputs": []
    },
    {
      "cell_type": "markdown",
      "source": [
        "### Check all"
      ],
      "metadata": {
        "id": "HOaZ2ZUlzh4b"
      }
    },
    {
      "cell_type": "markdown",
      "source": [
        "#### Utils"
      ],
      "metadata": {
        "id": "KcXNAaC6a0mg"
      }
    },
    {
      "cell_type": "code",
      "source": [
        "import torch\n",
        "\n",
        "from tqdm import tqdm\n",
        "\n",
        "def compute_distances_with_all_the_palettes(\n",
        "    reference_colors,\n",
        "    pre_computed_palettes,\n",
        "    exponent,\n",
        "    factor,\n",
        "    test_app_ids,\n",
        "    use_HSV,\n",
        "    change_coordinates,\n",
        "    verbose=True,\n",
        "    ):\n",
        "\n",
        "  best_app_id = None\n",
        "  best_distance = None\n",
        "  distance_dict = {}\n",
        "\n",
        "  for i, app_id in tqdm(enumerate(test_app_ids)):\n",
        "    dominant_colors = pre_computed_palettes[i]\n",
        "\n",
        "    if use_HSV:\n",
        "      test_colors = to_linear_hsv(dominant_colors, change_coordinates)\n",
        "    else:\n",
        "      test_colors = torch.tensor(dominant_colors)\n",
        "\n",
        "    distance = compute_distance_between_palettes(\n",
        "        reference_colors,\n",
        "        test_colors,\n",
        "        exponent,\n",
        "        factor,\n",
        "        )\n",
        "\n",
        "    distance_dict[app_id] = distance\n",
        "\n",
        "    if best_distance is None or distance < best_distance:\n",
        "      best_app_id = app_id\n",
        "      best_distance = distance\n",
        "\n",
        "      if verbose:\n",
        "        path_or_url = get_image_url(app_id)\n",
        "        print(f'\\tappID: {app_id} ; distance: {distance:.2f} ; url: {path_or_url}')\n",
        "        media.show_image(media.read_image(path_or_url))\n",
        "\n",
        "  return distance_dict"
      ],
      "metadata": {
        "id": "h7WHbaJ0Goxx"
      },
      "execution_count": null,
      "outputs": []
    },
    {
      "cell_type": "code",
      "source": [
        "def get_ground_truth_rank(distance_dict, ground_truth_app_id=None):\n",
        "  most_similar_app_ids = sorted(distance_dict, key=lambda x: distance_dict[x])\n",
        "\n",
        "  if ground_truth_app_id:\n",
        "    try:\n",
        "      ground_truth_rank = most_similar_app_ids.index(str(ground_truth_app_id))\n",
        "    except ValueError:\n",
        "      ground_truth_rank = None\n",
        "    print(f\"Ground truth (appID = {ground_truth_app_id}) is ranked n°{ground_truth_rank}.\")\n",
        "  else:\n",
        "    ground_truth_rank = None\n",
        "\n",
        "  return ground_truth_rank, most_similar_app_ids"
      ],
      "metadata": {
        "id": "4IGes6ISI69N"
      },
      "execution_count": null,
      "outputs": []
    },
    {
      "cell_type": "markdown",
      "source": [
        "#### Run"
      ],
      "metadata": {
        "id": "SP9RYCaHa292"
      }
    },
    {
      "cell_type": "code",
      "source": [
        "# We constrain the number of appIDs (originally ~ 100k) to focus on games which\n",
        "# may be able to attract the attention of Epic Games in order to strike a deal\n",
        "# for a giveaway.\n",
        "# This step is not mandatory, but it should help to make the whole process\n",
        "# faster, and make the game of interest appear at lower ranks in the results.\n",
        "# This means that it is easier to manually parse the results, typically by\n",
        "# looking at the top 20 results instead of the top 100 results.\n",
        "\n",
        "# - With the first 2,000 popular appIDs, 12 apps can be recalled out of 22 apps.\n",
        "# - With the first 7,000 popular appIDs, 16 apps.\n",
        "# - With the first 13,000 popular appIDs, 19 apps.\n",
        "# - With the first 18,500 popular appIDs, 21 apps.\n",
        "# NB: the missing app is the DLC for Destiny 2, which cannot be recovered anyway\n",
        "# as it is not a game. However, the base game appears in the 21 recalled apps.\n",
        "\n",
        "MAX_NUM_POPULAR_APP_IDS = 20000\n",
        "test_app_ids = set(filtered_app_ids).intersection(popular_appids[:MAX_NUM_POPULAR_APP_IDS])\n",
        "\n",
        "distance_dict = compute_distances_with_all_the_palettes(\n",
        "    reference_colors,\n",
        "    pre_computed_palettes,\n",
        "    exponent,\n",
        "    factor,\n",
        "    test_app_ids,\n",
        "    use_HSV,\n",
        "    change_coordinates,\n",
        "    verbose=True,\n",
        "    )\n",
        "\n",
        "app_id_index = 0\n",
        "ground_truth_app_id = gift[\"appids\"][app_id_index]\n",
        "\n",
        "ground_truth_rank, most_similar_app_ids = get_ground_truth_rank(\n",
        "    distance_dict,\n",
        "    ground_truth_app_id,\n",
        "    )"
      ],
      "metadata": {
        "id": "d7VfvPwfn9h0"
      },
      "execution_count": null,
      "outputs": []
    },
    {
      "cell_type": "markdown",
      "source": [
        "#### Show the covers with the most similar color palettes"
      ],
      "metadata": {
        "id": "ZfjlMyEZYAc-"
      }
    },
    {
      "cell_type": "code",
      "source": [
        "MAX_NUM_DISPLAYED_IMAGES = 25\n",
        "DISPLAYED_IMAGE_WIDTH = 300\n",
        "\n",
        "for i, app_id in enumerate(most_similar_app_ids[:MAX_NUM_DISPLAYED_IMAGES], start=1):\n",
        "  distance = distance_dict[app_id]\n",
        "\n",
        "  path_or_url = get_image_url(app_id)\n",
        "  print(f'\\t{i}) appID: {app_id} ; distance: {distance:.2f} ; url: {path_or_url}')\n",
        "  media.show_image(media.read_image(path_or_url), width=DISPLAYED_IMAGE_WIDTH)"
      ],
      "metadata": {
        "id": "dFh-UGk0uTaG"
      },
      "execution_count": null,
      "outputs": []
    },
    {
      "cell_type": "markdown",
      "source": [
        "### Optimize the exponent"
      ],
      "metadata": {
        "id": "f4qSdoEsYCyj"
      }
    },
    {
      "cell_type": "markdown",
      "source": [
        "#### Utils"
      ],
      "metadata": {
        "id": "OPb2EiBGblu4"
      }
    },
    {
      "cell_type": "code",
      "source": [
        "def process_every_gift(\n",
        "    egs_solutions,\n",
        "    pre_computed_palettes,\n",
        "    exponent,\n",
        "    factor,\n",
        "    test_app_ids,\n",
        "    use_HSV,\n",
        "    change_coordinates,\n",
        "    verbose=False,\n",
        "    ):\n",
        "  ground_truth_ranks = []\n",
        "  for gift_index in range(len(egs_solutions[\"gift\"])):\n",
        "    gift = egs_solutions[\"gift\"][gift_index]\n",
        "    path_or_url = from_gift_to_egs_url(gift)\n",
        "    print(f\"{gift['index']}) {path_or_url}\")\n",
        "\n",
        "    reference_colors = prepare_image(path_or_url, use_HSV, change_coordinates, verbose=verbose)\n",
        "\n",
        "    distance_dict = compute_distances_with_all_the_palettes(\n",
        "        reference_colors,\n",
        "        pre_computed_palettes,\n",
        "        exponent,\n",
        "        factor,\n",
        "        test_app_ids,\n",
        "        use_HSV,\n",
        "        change_coordinates,\n",
        "        verbose=verbose,\n",
        "        )\n",
        "\n",
        "    appid_index = 0\n",
        "    ground_truth_app_id = gift[\"appids\"][appid_index]\n",
        "\n",
        "    ground_truth_rank, most_similar_app_ids = get_ground_truth_rank(\n",
        "        distance_dict,\n",
        "        ground_truth_app_id,\n",
        "        )\n",
        "\n",
        "    ground_truth_ranks.append(ground_truth_rank)\n",
        "\n",
        "  return ground_truth_ranks"
      ],
      "metadata": {
        "id": "F_kyNFrHbzy4"
      },
      "execution_count": null,
      "outputs": []
    },
    {
      "cell_type": "markdown",
      "source": [
        "#### Run"
      ],
      "metadata": {
        "id": "mvn1lFHYbnmX"
      }
    },
    {
      "cell_type": "code",
      "source": [
        "MAX_NUM_POPULAR_APP_IDS = 2000\n",
        "test_app_ids = set(filtered_app_ids).intersection(popular_appids[:MAX_NUM_POPULAR_APP_IDS])\n",
        "\n",
        "use_HSV = True\n",
        "change_coordinates = True\n",
        "factor = 100\n",
        "\n",
        "results = {}\n",
        "\n",
        "for exponent in [0.25, 0.5, 0.75, 1, 1.25, 1.5, 1.75]:\n",
        "  ground_truth_ranks = process_every_gift(\n",
        "      egs_solutions,\n",
        "      pre_computed_palettes,\n",
        "      exponent,\n",
        "      factor,\n",
        "      test_app_ids,\n",
        "      use_HSV,\n",
        "      change_coordinates,\n",
        "      verbose=False,\n",
        "      )\n",
        "\n",
        "  l = torch.Tensor([v for v in ground_truth_ranks if v is not None])\n",
        "  print(f\"#ground truth = {l.size()}\\texponent: {exponent:.2f} ---> min: {l.min():.0f}\\tmean: {l.mean():.2f}\\tmedian: {l.median():.0f}\\tmax: {l.max():.0f}\")\n",
        "\n",
        "  results[exponent] = ground_truth_ranks\n",
        "\n",
        "print(results)"
      ],
      "metadata": {
        "id": "HkNc2C4qYHVL"
      },
      "execution_count": null,
      "outputs": []
    }
  ]
}