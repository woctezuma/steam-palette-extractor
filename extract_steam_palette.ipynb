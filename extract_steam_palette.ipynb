{
  "nbformat": 4,
  "nbformat_minor": 0,
  "metadata": {
    "colab": {
      "private_outputs": true,
      "provenance": [],
      "collapsed_sections": [
        "xenhFtn4s9Ma",
        "_6E1JXzSrPF9",
        "L2CXf7n-kfuB",
        "mqKohFZTtXWm",
        "SqngkmNMmhny"
      ]
    },
    "kernelspec": {
      "name": "python3",
      "display_name": "Python 3"
    },
    "language_info": {
      "name": "python"
    },
    "gpuClass": "standard"
  },
  "cells": [
    {
      "cell_type": "markdown",
      "source": [
        "# Steam Palette Extractor\n",
        "Reference: https://github.com/woctezuma/steam-palette-extractor"
      ],
      "metadata": {
        "id": "eL8Fjiw2gJxP"
      }
    },
    {
      "cell_type": "markdown",
      "source": [
        "## Install Python packages"
      ],
      "metadata": {
        "id": "xenhFtn4s9Ma"
      }
    },
    {
      "cell_type": "code",
      "execution_count": null,
      "metadata": {
        "id": "aia2H4FGzxtx"
      },
      "outputs": [],
      "source": [
        "%pip install -qq img2dataset mediapy tqdm"
      ]
    },
    {
      "cell_type": "markdown",
      "source": [
        "## Download images from Steam (only the first time)"
      ],
      "metadata": {
        "id": "_6E1JXzSrPF9"
      }
    },
    {
      "cell_type": "code",
      "source": [
        "IMG_NAME = 'capsule_616x353.jpg'\n",
        "\n",
        "def get_image_url(app_id, img_name=IMG_NAME):\n",
        "  return f'https://cdn.cloudflare.steamstatic.com/steam/apps/{app_id}/{img_name}'\n",
        "\n",
        "def write_to_text_file(app_ids, fname, img_name=IMG_NAME):\n",
        "  with open(fname, 'w') as f:\n",
        "    for app_id in app_ids:\n",
        "      url = get_image_url(app_id, img_name)\n",
        "      f.write(f'{url}\\n')"
      ],
      "metadata": {
        "id": "nGxj7U4IkHT9"
      },
      "execution_count": null,
      "outputs": []
    },
    {
      "cell_type": "code",
      "source": [
        "import json\n",
        "\n",
        "APPID_FNAME = \"appids.json\"\n",
        "\n",
        "def get_app_ids():\n",
        "  with open(APPID_FNAME) as f:\n",
        "    return [str(app_id) for app_id in json.load(f)]"
      ],
      "metadata": {
        "id": "u3oco092qfj8"
      },
      "execution_count": null,
      "outputs": []
    },
    {
      "cell_type": "code",
      "source": [
        "!curl -OL https://github.com/woctezuma/steam-palette-extractor/releases/download/games/{APPID_FNAME}"
      ],
      "metadata": {
        "id": "nlgqlVp6-BTS"
      },
      "execution_count": null,
      "outputs": []
    },
    {
      "cell_type": "code",
      "source": [
        "app_ids = get_app_ids()\n",
        "write_to_text_file(app_ids, fname='myimglist.txt')"
      ],
      "metadata": {
        "id": "gYeeHgGteJcJ"
      },
      "execution_count": null,
      "outputs": []
    },
    {
      "cell_type": "code",
      "source": [
        "# The download process took ~ 30 minutes.\n",
        "# Out of 95,800 images, 92,249 were successfully downloaded.\n",
        "# The output folder uses ~ 8 GB of disk space.\n",
        "!echo img2dataset --url_list=myimglist.txt --output_folder=steam_images --resize_mode=no\n",
        "!echo zip -r steam_images.zip steam_images"
      ],
      "metadata": {
        "id": "5Vm2KpwvrUPU"
      },
      "execution_count": null,
      "outputs": []
    },
    {
      "cell_type": "markdown",
      "source": [
        "## Check the content of the image folder"
      ],
      "metadata": {
        "id": "mDyShJW2vXU1"
      }
    },
    {
      "cell_type": "code",
      "source": [
        "import glob\n",
        "\n",
        "IMG_FOLDER = \"steam_images\"\n",
        "\n",
        "def get_test_fnames(image_folder, file_ext = '.jpg'):\n",
        "  return sorted(glob.glob(image_folder +'/*' + file_ext))\n",
        "\n",
        "test_fnames = get_test_fnames(f'{IMG_FOLDER}/*')\n",
        "print(f'#images = {len(test_fnames)}')"
      ],
      "metadata": {
        "id": "D3GIKI78Cdur"
      },
      "execution_count": null,
      "outputs": []
    },
    {
      "cell_type": "markdown",
      "source": [
        "## Utils"
      ],
      "metadata": {
        "id": "j1GsKjS9LKlb"
      }
    },
    {
      "cell_type": "code",
      "source": [
        "# Reference: https://stackoverflow.com/questions/3241929/python-find-dominant-most-common-color-in-an-image/61730849#61730849\n",
        "\n",
        "def get_dominant_colors(pil_img, palette_size=16, num_colors=10):\n",
        "    # Resize image to speed up processing\n",
        "    img = pil_img.copy()\n",
        "    img.thumbnail((100, 100))\n",
        "\n",
        "    # Reduce colors (uses k-means internally)\n",
        "    paletted = img.convert('P', palette=Image.ADAPTIVE, colors=palette_size)\n",
        "\n",
        "    # Find the color that occurs most often\n",
        "    palette = paletted.getpalette()\n",
        "    color_counts = sorted(paletted.getcolors(), reverse=True)\n",
        "\n",
        "    dominant_colors = []\n",
        "    for i in range(num_colors):\n",
        "      try:\n",
        "        palette_index = color_counts[i][1]\n",
        "        colors = palette[palette_index*3:palette_index*3+3]\n",
        "      except IndexError:\n",
        "        colors = [0, 0, 0]\n",
        "\n",
        "      dominant_colors.append(colors)\n",
        "\n",
        "    return dominant_colors"
      ],
      "metadata": {
        "id": "6wYNWYnxoWUM"
      },
      "execution_count": null,
      "outputs": []
    },
    {
      "cell_type": "code",
      "source": [
        "import mediapy as media\n",
        "\n",
        "from PIL import Image\n",
        "\n",
        "def extract_colors(path_or_url, num_colors=10):\n",
        "  img = media.read_image(path_or_url)\n",
        "  pil_img = Image.fromarray(img)\n",
        "  return get_dominant_colors(pil_img, num_colors=num_colors)"
      ],
      "metadata": {
        "id": "eQGmokz9u3zX"
      },
      "execution_count": null,
      "outputs": []
    },
    {
      "cell_type": "code",
      "source": [
        "import mediapy as media\n",
        "\n",
        "from PIL import ImageColor, Image, ImageDraw\n",
        "\n",
        "# Reference: https://stackoverflow.com/questions/54165439/what-are-the-exact-color-names-available-in-pils-imagedraw\n",
        "\n",
        "def show_colors(c):\n",
        "  n = len( c )\n",
        "\n",
        "  cols        = NUM_COLORS\n",
        "  rows        = ((n-1) // cols) +1\n",
        "  cellHeight  = 30\n",
        "  cellWidth   = 170\n",
        "  imgHeight   = cellHeight * rows\n",
        "  imgWidth    = cellWidth * cols\n",
        "\n",
        "  i = Image.new( \"RGB\", (imgWidth,imgHeight), (0,0,0) )\n",
        "  a = ImageDraw.Draw( i )\n",
        "\n",
        "  for idx, rgb in enumerate( c ):\n",
        "      y0 = cellHeight * (idx // cols)\n",
        "      y1 = y0 + cellHeight\n",
        "      x0 = cellWidth * (idx % cols)\n",
        "      x1 = x0 + (cellWidth / 1)\n",
        "\n",
        "      a.rectangle( [ x0, y0, x1, y1 ], fill=tuple(rgb), outline='black' )\n",
        "\n",
        "  media.show_image(i)"
      ],
      "metadata": {
        "id": "A4wbefjykP5U"
      },
      "execution_count": null,
      "outputs": []
    },
    {
      "cell_type": "code",
      "source": [
        "from colorsys import rgb_to_hsv\n",
        "\n",
        "def to_hsv(r, g, b):\n",
        "  # Reference: https://stackoverflow.com/a/37656972/376454\n",
        "\n",
        "  h, s, v = rgb_to_hsv(r / 255, g / 255, b / 255)\n",
        "  return int(h * 255), int(s * 255), int(v * 255)"
      ],
      "metadata": {
        "id": "3eq9E5WaERxA"
      },
      "execution_count": null,
      "outputs": []
    },
    {
      "cell_type": "markdown",
      "source": [
        "## Run"
      ],
      "metadata": {
        "id": "8q1LUuKAECGM"
      }
    },
    {
      "cell_type": "code",
      "source": [
        "import torch\n",
        "\n",
        "NUM_COLORS = 8\n",
        "\n",
        "path_or_url = \"https://cdn1.epicgames.com/offer/d5241c76f178492ea1540fce45616757/Free-Game-3-teaser_1920x1080-56b6434f5564766a6dc7a1d7fada8c18\"\n",
        "dominant_colors = extract_colors(path_or_url, num_colors=NUM_COLORS)\n",
        "show_colors(dominant_colors)\n",
        "v = torch.tensor([to_hsv(*rgb) for rgb in dominant_colors])\n",
        "print(v)\n",
        "\n",
        "path_or_url = get_image_url(1267910)\n",
        "dominant_colors = extract_colors(path_or_url, num_colors=NUM_COLORS)\n",
        "show_colors(dominant_colors)\n",
        "w = torch.tensor([to_hsv(*rgb) for rgb in dominant_colors])\n",
        "print(w)"
      ],
      "metadata": {
        "id": "Sc-f5KLU3WDH"
      },
      "execution_count": null,
      "outputs": []
    },
    {
      "cell_type": "code",
      "source": [
        "# Caveat: convert the HSV values before computing the distance!\n",
        "# https://stackoverflow.com/a/39113477/376454\n",
        "\n",
        "x = torch.cos(v[:, 0]) * v[:, 1]\n",
        "y = torch.sin(v[:, 0]) * v[:, 1]\n",
        "v[:, 0] = x\n",
        "v[:, 1] = y\n",
        "\n",
        "x = torch.cos(w[:, 0]) * w[:, 1]\n",
        "y = torch.sin(w[:, 0]) * w[:, 1]\n",
        "w[:, 0] = x\n",
        "w[:, 1] = y\n",
        "\n",
        "distance = torch.cdist(v.float(), w.float())\n",
        "distance\n",
        "\n",
        "top_k = 3\n",
        "score = torch.topk(distance.min(dim=1)[0], k=top_k, largest=False)[0].mean()\n",
        "score"
      ],
      "metadata": {
        "id": "ihXRyBxSH55_"
      },
      "execution_count": null,
      "outputs": []
    },
    {
      "cell_type": "code",
      "source": [
        "from pathlib import Path\n",
        "\n",
        "app_ids = get_app_ids()\n",
        "\n",
        "filtered_indices = []\n",
        "filtered_app_ids = []\n",
        "\n",
        "for fname in test_fnames:\n",
        "  index = int(Path(fname).stem)\n",
        "\n",
        "  filtered_indices.append(index)\n",
        "  filtered_app_ids.append(app_ids[index])\n",
        "\n",
        "with open('filtered_indices.json', 'w') as f:\n",
        "  json.dump(filtered_indices, f)\n",
        "\n",
        "with open('filtered_appids.json', 'w') as f:\n",
        "  json.dump(filtered_app_ids, f)"
      ],
      "metadata": {
        "id": "MkosUpDhVRmw"
      },
      "execution_count": null,
      "outputs": []
    },
    {
      "cell_type": "code",
      "source": [
        "from tqdm import tqdm\n",
        "\n",
        "# This extraction process takes ~ 20 minutes.\n",
        "\n",
        "# d = torch.zeros(len(test_fnames), NUM_COLORS, len(\"RGB\"), dtype=int)\n",
        "\n",
        "for i, fname in tqdm(enumerate(test_fnames)):\n",
        "  if torch.all(d[i]==0):\n",
        "    dominant_colors = extract_colors(fname, num_colors=NUM_COLORS)\n",
        "    d[i] = torch.tensor(dominant_colors)"
      ],
      "metadata": {
        "id": "3g33pOMWTepd"
      },
      "execution_count": null,
      "outputs": []
    },
    {
      "cell_type": "code",
      "source": [
        "torch.save(d, f\"steam_palette_{NUM_COLORS}.pth\")"
      ],
      "metadata": {
        "id": "7ZsPoIh3oeFu"
      },
      "execution_count": null,
      "outputs": []
    }
  ]
}