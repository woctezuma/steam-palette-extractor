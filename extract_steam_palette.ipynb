{
  "nbformat": 4,
  "nbformat_minor": 0,
  "metadata": {
    "colab": {
      "private_outputs": true,
      "provenance": [],
      "collapsed_sections": [
        "xenhFtn4s9Ma",
        "_6E1JXzSrPF9",
        "L2CXf7n-kfuB",
        "mqKohFZTtXWm",
        "SqngkmNMmhny"
      ]
    },
    "kernelspec": {
      "name": "python3",
      "display_name": "Python 3"
    },
    "language_info": {
      "name": "python"
    },
    "gpuClass": "standard"
  },
  "cells": [
    {
      "cell_type": "markdown",
      "source": [
        "# Steam Palette Extractor\n",
        "Reference: https://github.com/woctezuma/steam-palette-extractor"
      ],
      "metadata": {
        "id": "eL8Fjiw2gJxP"
      }
    },
    {
      "cell_type": "markdown",
      "source": [
        "## Install Python packages"
      ],
      "metadata": {
        "id": "xenhFtn4s9Ma"
      }
    },
    {
      "cell_type": "code",
      "execution_count": null,
      "metadata": {
        "id": "aia2H4FGzxtx"
      },
      "outputs": [],
      "source": [
        "%pip install -qq img2dataset mediapy tqdm"
      ]
    },
    {
      "cell_type": "markdown",
      "source": [
        "## Download images from Steam (only the first time)"
      ],
      "metadata": {
        "id": "_6E1JXzSrPF9"
      }
    },
    {
      "cell_type": "code",
      "source": [
        "IMG_NAME = 'capsule_616x353.jpg'\n",
        "\n",
        "def get_image_url(app_id, img_name=IMG_NAME):\n",
        "  return f'https://cdn.cloudflare.steamstatic.com/steam/apps/{app_id}/{img_name}'\n",
        "\n",
        "def write_to_text_file(app_ids, fname, img_name=IMG_NAME):\n",
        "  with open(fname, 'w') as f:\n",
        "    for app_id in app_ids:\n",
        "      url = get_image_url(app_id, img_name)\n",
        "      f.write(f'{url}\\n')"
      ],
      "metadata": {
        "id": "nGxj7U4IkHT9"
      },
      "execution_count": null,
      "outputs": []
    },
    {
      "cell_type": "code",
      "source": [
        "import json\n",
        "\n",
        "APPID_FNAME = \"appids.json\"\n",
        "\n",
        "def get_app_ids():\n",
        "  with open(APPID_FNAME) as f:\n",
        "    return json.load(f)"
      ],
      "metadata": {
        "id": "u3oco092qfj8"
      },
      "execution_count": null,
      "outputs": []
    },
    {
      "cell_type": "code",
      "source": [
        "!curl -OL https://github.com/woctezuma/steam-popular-appids/releases/download/appids/{APPID_FNAME}"
      ],
      "metadata": {
        "id": "nlgqlVp6-BTS"
      },
      "execution_count": null,
      "outputs": []
    },
    {
      "cell_type": "code",
      "source": [
        "app_ids = get_app_ids()\n",
        "write_to_text_file(app_ids, fname='myimglist.txt')"
      ],
      "metadata": {
        "id": "gYeeHgGteJcJ"
      },
      "execution_count": null,
      "outputs": []
    },
    {
      "cell_type": "code",
      "source": [
        "!echo img2dataset --url_list=myimglist.txt --output_folder=steam_images --resize_mode=no\n",
        "!echo zip -r steam_images.zip steam_images"
      ],
      "metadata": {
        "id": "5Vm2KpwvrUPU"
      },
      "execution_count": null,
      "outputs": []
    },
    {
      "cell_type": "markdown",
      "source": [
        "## Template Matching"
      ],
      "metadata": {
        "id": "mDyShJW2vXU1"
      }
    },
    {
      "cell_type": "code",
      "source": [
        "import glob\n",
        "\n",
        "IMG_FOLDER = \"steam_images\"\n",
        "\n",
        "def get_test_fnames(image_folder, file_ext = '.jpg'):\n",
        "  return sorted(glob.glob(image_folder +'/*' + file_ext))\n",
        "\n",
        "test_fnames = get_test_fnames(f'{IMG_FOLDER}/*')\n",
        "print(f'#images = {len(test_fnames)}')"
      ],
      "metadata": {
        "id": "D3GIKI78Cdur"
      },
      "execution_count": null,
      "outputs": []
    },
    {
      "cell_type": "markdown",
      "source": [
        "### Run"
      ],
      "metadata": {
        "id": "j1GsKjS9LKlb"
      }
    },
    {
      "cell_type": "code",
      "source": [
        "# Reference: https://stackoverflow.com/questions/3241929/python-find-dominant-most-common-color-in-an-image/61730849#61730849\n",
        "\n",
        "def get_dominant_colors(pil_img, palette_size=16, num_colors=10):\n",
        "    # Resize image to speed up processing\n",
        "    img = pil_img.copy()\n",
        "    img.thumbnail((100, 100))\n",
        "\n",
        "    # Reduce colors (uses k-means internally)\n",
        "    paletted = img.convert('P', palette=Image.ADAPTIVE, colors=palette_size)\n",
        "\n",
        "    # Find the color that occurs most often\n",
        "    palette = paletted.getpalette()\n",
        "    color_counts = sorted(paletted.getcolors(), reverse=True)\n",
        "\n",
        "    dominant_colors = []\n",
        "    for i in range(num_colors):\n",
        "      palette_index = color_counts[i][1]\n",
        "      dominant_colors.append(palette[palette_index*3:palette_index*3+3])\n",
        "\n",
        "    return dominant_colors"
      ],
      "metadata": {
        "id": "6wYNWYnxoWUM"
      },
      "execution_count": null,
      "outputs": []
    },
    {
      "cell_type": "code",
      "source": [
        "import mediapy as media\n",
        "\n",
        "from PIL import Image\n",
        "\n",
        "def extract_colors(path_or_url, num_colors=10):\n",
        "  img = media.read_image(url)\n",
        "  pil_img = Image.fromarray(img)\n",
        "  return get_dominant_colors(pil_img, num_colors=num_colors)"
      ],
      "metadata": {
        "id": "eQGmokz9u3zX"
      },
      "execution_count": null,
      "outputs": []
    },
    {
      "cell_type": "code",
      "source": [
        "NUM_COLORS = 3\n",
        "\n",
        "url = \"https://cdn1.epicgames.com/offer/d5241c76f178492ea1540fce45616757/Free-Game-3-teaser_1920x1080-56b6434f5564766a6dc7a1d7fada8c18"\n",
        "dominant_colors = extract_colors(url, num_colors=NUM_COLORS)"
      ],
      "metadata": {
        "id": "Sc-f5KLU3WDH"
      },
      "execution_count": null,
      "outputs": []
    },
    {
      "cell_type": "code",
      "source": [
        "from PIL import Image\n",
        "from tqdm import tqdm\n",
        "from urllib.error import HTTPError\n",
        "\n",
        "d = {}\n",
        "\n",
        "for app_id in tqdm(app_ids):\n",
        "  if app_id not in d:\n",
        "    path = f\"{IMG_FOLDER}/{app_id}.jpg\"\n",
        "    url = f\"https://cdn.cloudflare.steamstatic.com/steam/apps/{app_id}/capsule_616x353.jpg\"\n",
        "\n",
        "    try:\n",
        "      img = media.read_image(url)\n",
        "      pil_img = Image.fromarray(img)\n",
        "      dominant_colors = get_dominant_colors(pil_img, num_colors=num_colors)\n",
        "    except HTTPError:\n",
        "      dominant_colors = None\n",
        "\n",
        "      d[app_id] = dominant_colors"
      ],
      "metadata": {
        "id": "7ZsPoIh3oeFu"
      },
      "execution_count": null,
      "outputs": []
    }
  ]
}